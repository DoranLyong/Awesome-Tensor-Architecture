{
 "cells": [
  {
   "cell_type": "markdown",
   "metadata": {},
   "source": [
    "[![Open In Colab](https://colab.research.google.com/assets/colab-badge.svg)](https://colab.research.google.com/github/DoranLyong/Awesome-Tensor-Architecture/blob/main/pytorch_reference/simple_reference/03_Development_with_PyTorch/03_dev_pipeline.ipynb)"
   ]
  },
  {
   "cell_type": "markdown",
   "metadata": {},
   "source": [
    "## What do I need? - the basic deep learning development process (p.53)"
   ]
  },
  {
   "cell_type": "code",
   "execution_count": 1,
   "metadata": {},
   "outputs": [
    {
     "data": {
      "text/plain": [
       "'\\n- data preparation\\n- build a model \\n- train the model \\n- test the trained model to check performance \\n- For improving, tweak hyperparameters and retrain \\n- finally, deploy your model for any service \\n'"
      ]
     },
     "execution_count": 1,
     "metadata": {},
     "output_type": "execute_result"
    }
   ],
   "source": [
    "\"\"\"\n",
    "- data preparation\n",
    "- build a model \n",
    "- train the model \n",
    "- test the trained model to check performance \n",
    "- For improving, tweak hyperparameters and retrain \n",
    "- finally, deploy your model for any service \n",
    "\"\"\""
   ]
  },
  {
   "cell_type": "code",
   "execution_count": 2,
   "metadata": {},
   "outputs": [
    {
     "name": "stdout",
     "output_type": "stream",
     "text": [
      "1.9.0+cu111\n",
      "0.10.0+cu111\n"
     ]
    }
   ],
   "source": [
    "import torch \n",
    "import torchvision \n",
    "\n",
    "print(torch.__version__)\n",
    "print(torchvision.__version__)"
   ]
  },
  {
   "cell_type": "markdown",
   "metadata": {},
   "source": [
    "## Data Loading (p.55)\n",
    "* CIFAR-10 from ```torchvision.datasets```"
   ]
  },
  {
   "cell_type": "code",
   "execution_count": 3,
   "metadata": {},
   "outputs": [
    {
     "name": "stdout",
     "output_type": "stream",
     "text": [
      "Files already downloaded and verified\n"
     ]
    }
   ],
   "source": [
    "from torchvision.datasets import CIFAR10\n",
    "\n",
    "\"\"\"\n",
    "    Dataset class returns a dataset object that includes : \n",
    "        - data and \n",
    "        - information about the data \n",
    "\"\"\"\n",
    "train_data = CIFAR10(   root= \"./train\", \n",
    "                        train=True, \n",
    "                        download=True\n",
    "                    )"
   ]
  },
  {
   "cell_type": "code",
   "execution_count": 4,
   "metadata": {},
   "outputs": [
    {
     "data": {
      "text/plain": [
       "['__add__',\n",
       " '__class__',\n",
       " '__class_getitem__',\n",
       " '__delattr__',\n",
       " '__dict__',\n",
       " '__dir__',\n",
       " '__doc__',\n",
       " '__eq__',\n",
       " '__format__',\n",
       " '__ge__',\n",
       " '__getattribute__',\n",
       " '__getitem__',\n",
       " '__gt__',\n",
       " '__hash__',\n",
       " '__init__',\n",
       " '__init_subclass__',\n",
       " '__le__',\n",
       " '__len__',\n",
       " '__lt__',\n",
       " '__module__',\n",
       " '__ne__',\n",
       " '__new__',\n",
       " '__orig_bases__',\n",
       " '__parameters__',\n",
       " '__reduce__',\n",
       " '__reduce_ex__',\n",
       " '__repr__',\n",
       " '__setattr__',\n",
       " '__sizeof__',\n",
       " '__slots__',\n",
       " '__str__',\n",
       " '__subclasshook__',\n",
       " '__weakref__',\n",
       " '_check_integrity',\n",
       " '_format_transform_repr',\n",
       " '_is_protocol',\n",
       " '_load_meta',\n",
       " '_repr_indent',\n",
       " 'base_folder',\n",
       " 'class_to_idx',\n",
       " 'classes',\n",
       " 'data',\n",
       " 'download',\n",
       " 'extra_repr',\n",
       " 'filename',\n",
       " 'meta',\n",
       " 'root',\n",
       " 'target_transform',\n",
       " 'targets',\n",
       " 'test_list',\n",
       " 'tgz_md5',\n",
       " 'train',\n",
       " 'train_list',\n",
       " 'transform',\n",
       " 'transforms',\n",
       " 'url']"
      ]
     },
     "execution_count": 4,
     "metadata": {},
     "output_type": "execute_result"
    }
   ],
   "source": [
    "dir(train_data) # show class attributes "
   ]
  },
  {
   "cell_type": "code",
   "execution_count": 5,
   "metadata": {},
   "outputs": [
    {
     "name": "stdout",
     "output_type": "stream",
     "text": [
      "Dataset CIFAR10\n",
      "    Number of datapoints: 50000\n",
      "    Root location: ./train\n",
      "    Split: Train\n"
     ]
    }
   ],
   "source": [
    "# general information of the dataset object \n",
    "print(train_data)"
   ]
  },
  {
   "cell_type": "code",
   "execution_count": 6,
   "metadata": {},
   "outputs": [
    {
     "name": "stdout",
     "output_type": "stream",
     "text": [
      "50000\n"
     ]
    }
   ],
   "source": [
    "# length of the data \n",
    "print(len(train_data))"
   ]
  },
  {
   "cell_type": "code",
   "execution_count": 7,
   "metadata": {},
   "outputs": [
    {
     "name": "stdout",
     "output_type": "stream",
     "text": [
      "<class 'numpy.ndarray'>\n",
      "(50000, 32, 32, 3)\n"
     ]
    }
   ],
   "source": [
    "# shape of data \n",
    "print(type(train_data.data))\n",
    "print(train_data.data.shape)"
   ]
  },
  {
   "cell_type": "code",
   "execution_count": 8,
   "metadata": {},
   "outputs": [
    {
     "name": "stdout",
     "output_type": "stream",
     "text": [
      "<class 'list'>\n",
      "50000\n"
     ]
    }
   ],
   "source": [
    "# targets in index(= labels)\n",
    "print(type(train_data.targets))\n",
    "print(len(train_data.targets))"
   ]
  },
  {
   "cell_type": "code",
   "execution_count": 9,
   "metadata": {},
   "outputs": [
    {
     "name": "stdout",
     "output_type": "stream",
     "text": [
      "['airplane', 'automobile', 'bird', 'cat', 'deer', 'dog', 'frog', 'horse', 'ship', 'truck']\n"
     ]
    }
   ],
   "source": [
    "# class names \n",
    "print(train_data.classes)"
   ]
  },
  {
   "cell_type": "code",
   "execution_count": 10,
   "metadata": {},
   "outputs": [
    {
     "name": "stdout",
     "output_type": "stream",
     "text": [
      "{'airplane': 0, 'automobile': 1, 'bird': 2, 'cat': 3, 'deer': 4, 'dog': 5, 'frog': 6, 'horse': 7, 'ship': 8, 'truck': 9}\n"
     ]
    }
   ],
   "source": [
    "# class names to index values \n",
    "print(train_data.class_to_idx)"
   ]
  },
  {
   "cell_type": "markdown",
   "metadata": {},
   "source": [
    "## Access a data sample (p.57)\n",
    "* using an index "
   ]
  },
  {
   "cell_type": "code",
   "execution_count": 11,
   "metadata": {},
   "outputs": [
    {
     "name": "stdout",
     "output_type": "stream",
     "text": [
      "<class 'tuple'>\n",
      "2\n"
     ]
    }
   ],
   "source": [
    "one_instance = train_data[0]\n",
    "\n",
    "print(type(one_instance)) \n",
    "print(len(one_instance))\n",
    "\n",
    "data, label = one_instance"
   ]
  },
  {
   "cell_type": "code",
   "execution_count": 12,
   "metadata": {},
   "outputs": [
    {
     "name": "stdout",
     "output_type": "stream",
     "text": [
      "<class 'PIL.Image.Image'>\n",
      "<class 'int'>\n",
      "<PIL.Image.Image image mode=RGB size=32x32 at 0x7F1DD9194A60>\n"
     ]
    }
   ],
   "source": [
    "print(type(data))\n",
    "print(type(label))\n",
    "print(data) # 32x32 size, RGB image "
   ]
  },
  {
   "cell_type": "code",
   "execution_count": 13,
   "metadata": {},
   "outputs": [
    {
     "data": {
      "text/plain": [
       "<matplotlib.image.AxesImage at 0x7f1dcc689970>"
      ]
     },
     "execution_count": 13,
     "metadata": {},
     "output_type": "execute_result"
    },
    {
     "data": {
      "image/png": "[encoded data removed]",
      "text/plain": [
       "<Figure size 432x288 with 1 Axes>"
      ]
     },
     "metadata": {
      "needs_background": "light"
     },
     "output_type": "display_data"
    }
   ],
   "source": [
    "# Visualize the data \n",
    "import matplotlib.pyplot as plt \n",
    "\n",
    "plt.imshow(data)"
   ]
  },
  {
   "cell_type": "code",
   "execution_count": 14,
   "metadata": {},
   "outputs": [
    {
     "name": "stdout",
     "output_type": "stream",
     "text": [
      "<class 'int'>\n",
      "6\n",
      "frog\n"
     ]
    }
   ],
   "source": [
    "# examine the label \n",
    "print(type(label))\n",
    "print(label)  \n",
    "print(train_data.classes[label])"
   ]
  },
  {
   "cell_type": "markdown",
   "metadata": {},
   "source": [
    "### Likewise, call test data "
   ]
  },
  {
   "cell_type": "code",
   "execution_count": 15,
   "metadata": {},
   "outputs": [
    {
     "name": "stdout",
     "output_type": "stream",
     "text": [
      "Files already downloaded and verified\n"
     ]
    }
   ],
   "source": [
    "test_data = CIFAR10(root='./test', \n",
    "                    train=False, \n",
    "                    download=True\n",
    "                    )"
   ]
  },
  {
   "cell_type": "code",
   "execution_count": 16,
   "metadata": {},
   "outputs": [
    {
     "name": "stdout",
     "output_type": "stream",
     "text": [
      "Dataset CIFAR10\n",
      "    Number of datapoints: 10000\n",
      "    Root location: ./test\n",
      "    Split: Test\n",
      "10000\n",
      "(10000, 32, 32, 3)\n"
     ]
    }
   ],
   "source": [
    "print(test_data)\n",
    "\n",
    "print(len(test_data))\n",
    "print(test_data.data.shape)"
   ]
  },
  {
   "cell_type": "markdown",
   "metadata": {},
   "source": [
    "## Data Transforms (p.59)\n",
    "* load the dataset object applying transforms to "
   ]
  },
  {
   "cell_type": "code",
   "execution_count": 17,
   "metadata": {},
   "outputs": [
    {
     "name": "stdout",
     "output_type": "stream",
     "text": [
      "Files already downloaded and verified\n"
     ]
    }
   ],
   "source": [
    "from torchvision import transforms as T \n",
    "\n",
    "train_T = T.Compose([ T.RandomCrop(32, padding=4),\n",
    "                      T.RandomHorizontalFlip(), \n",
    "                      T.ToTensor(), \n",
    "                      T.Normalize( mean= (0.4914, 0.4822, 0.4465),\n",
    "                                   std=(0.2023, 0.1994, 0.2010)),\n",
    "                    ])\n",
    "\n",
    "train_data = CIFAR10(   root=\"./train\",\n",
    "                        train=True, \n",
    "                        download=True, \n",
    "                        transform=train_T, # set the transform parameter when creating the dataset \n",
    "                    )"
   ]
  },
  {
   "cell_type": "code",
   "execution_count": 18,
   "metadata": {},
   "outputs": [
    {
     "name": "stdout",
     "output_type": "stream",
     "text": [
      "Dataset CIFAR10\n",
      "    Number of datapoints: 50000\n",
      "    Root location: ./train\n",
      "    Split: Train\n",
      "    StandardTransform\n",
      "Transform: Compose(\n",
      "               RandomCrop(size=(32, 32), padding=4)\n",
      "               RandomHorizontalFlip(p=0.5)\n",
      "               ToTensor()\n",
      "               Normalize(mean=(0.4914, 0.4822, 0.4465), std=(0.2023, 0.1994, 0.201))\n",
      "           )\n"
     ]
    }
   ],
   "source": [
    "print(train_data)"
   ]
  },
  {
   "cell_type": "code",
   "execution_count": 19,
   "metadata": {},
   "outputs": [
    {
     "name": "stdout",
     "output_type": "stream",
     "text": [
      "StandardTransform\n",
      "Transform: Compose(\n",
      "               RandomCrop(size=(32, 32), padding=4)\n",
      "               RandomHorizontalFlip(p=0.5)\n",
      "               ToTensor()\n",
      "               Normalize(mean=(0.4914, 0.4822, 0.4465), std=(0.2023, 0.1994, 0.201))\n",
      "           )\n"
     ]
    }
   ],
   "source": [
    "print(train_data.transforms)"
   ]
  },
  {
   "cell_type": "code",
   "execution_count": 20,
   "metadata": {},
   "outputs": [
    {
     "name": "stdout",
     "output_type": "stream",
     "text": [
      "<class 'torch.Tensor'>\n",
      "torch.Size([3, 32, 32])\n"
     ]
    }
   ],
   "source": [
    "data, label = train_data[0]\n",
    "\n",
    "print(type(data))\n",
    "print(data.size())"
   ]
  },
  {
   "cell_type": "code",
   "execution_count": 21,
   "metadata": {},
   "outputs": [
    {
     "name": "stderr",
     "output_type": "stream",
     "text": [
      "Clipping input data to the valid range for imshow with RGB data ([0..1] for floats or [0..255] for integers).\n"
     ]
    },
    {
     "data": {
      "text/plain": [
       "<matplotlib.image.AxesImage at 0x7f1dcc54b6d0>"
      ]
     },
     "execution_count": 21,
     "metadata": {},
     "output_type": "execute_result"
    },
    {
     "data": {
      "image/png": "[encoded data removed]",
      "text/plain": [
       "<Figure size 432x288 with 1 Axes>"
      ]
     },
     "metadata": {
      "needs_background": "light"
     },
     "output_type": "display_data"
    }
   ],
   "source": [
    "plt.imshow(data.permute(1, 2, 0)) # (C, H, W) -> (H, W, C) for visualization "
   ]
  },
  {
   "cell_type": "markdown",
   "metadata": {},
   "source": [
    "### Likewise, call test data but different transforms "
   ]
  },
  {
   "cell_type": "code",
   "execution_count": 22,
   "metadata": {},
   "outputs": [],
   "source": [
    "test_T = T.Compose([  T.ToTensor(),\n",
    "                      T.Normalize( mean=(0.4914, 0.4822, 0.4465),\n",
    "                                   std=(0.2023, 0.1994, 0.2010))\n",
    "                   ])\n",
    "\n",
    "test_data = CIFAR10(root=\"./test\",\n",
    "                    train=False, \n",
    "                    transform=test_T, \n",
    "                    )"
   ]
  },
  {
   "cell_type": "code",
   "execution_count": 23,
   "metadata": {},
   "outputs": [
    {
     "name": "stdout",
     "output_type": "stream",
     "text": [
      "Dataset CIFAR10\n",
      "    Number of datapoints: 10000\n",
      "    Root location: ./test\n",
      "    Split: Test\n",
      "    StandardTransform\n",
      "Transform: Compose(\n",
      "               ToTensor()\n",
      "               Normalize(mean=(0.4914, 0.4822, 0.4465), std=(0.2023, 0.1994, 0.201))\n",
      "           )\n"
     ]
    }
   ],
   "source": [
    "print(test_data)"
   ]
  },
  {
   "cell_type": "markdown",
   "metadata": {},
   "source": [
    "## Data Batching (p.62)\n",
    "* sending data in batches for model input in PyTorch \n",
    "* use the ```torch.utils.data.DataLoader``` for batch processing \n",
    "* refer to p.67 for more advanced usage \n",
    "\n",
    "※ built-in ```DataLoader``` generates an iterable for your data"
   ]
  },
  {
   "cell_type": "code",
   "execution_count": 24,
   "metadata": {},
   "outputs": [],
   "source": [
    "from torch.utils.data import DataLoader \n",
    "\n",
    "trainloader = DataLoader( train_data,  # dataset object \n",
    "                          batch_size=16, \n",
    "                          shuffle=True, \n",
    "                          num_workers=3,\n",
    "                        )"
   ]
  },
  {
   "cell_type": "code",
   "execution_count": 25,
   "metadata": {},
   "outputs": [
    {
     "name": "stdout",
     "output_type": "stream",
     "text": [
      "torch.Size([16, 3, 32, 32])\n",
      "torch.Size([16])\n"
     ]
    }
   ],
   "source": [
    "\"\"\" \n",
    "    Simply check the dataloader object.\n",
    "    Retrieve a batch of sampels from the trainloader: \n",
    "\n",
    "        - iter() to cast the trainloader to an iterator \n",
    "        - next() to iterate over the data one more time \n",
    "\"\"\"\n",
    "\n",
    "data_batch, labels_batch = next(iter(trainloader)) \n",
    "\n",
    "print(data_batch.size())\n",
    "print(labels_batch.size())"
   ]
  },
  {
   "cell_type": "code",
   "execution_count": 26,
   "metadata": {},
   "outputs": [],
   "source": [
    "testloader = DataLoader( test_data, \n",
    "                         batch_size=16, \n",
    "                          shuffle=False,\n",
    "                          num_workers=3,\n",
    "                       )"
   ]
  },
  {
   "cell_type": "markdown",
   "metadata": {},
   "source": [
    "*** \n",
    "## Model Design - using existing & pre-trained models (p.69)\n",
    "* from ```torchvision.models``` \n",
    "* from ```torch.hub```  (docker hub 같은 것)"
   ]
  },
  {
   "cell_type": "code",
   "execution_count": 27,
   "metadata": {},
   "outputs": [
    {
     "name": "stdout",
     "output_type": "stream",
     "text": [
      "['T_destination', '__annotations__', '__call__', '__class__', '__delattr__', '__dict__', '__dir__', '__doc__', '__eq__', '__format__', '__ge__', '__getattr__', '__getattribute__', '__gt__', '__hash__', '__init__', '__init_subclass__', '__le__', '__lt__', '__module__', '__ne__', '__new__', '__reduce__', '__reduce_ex__', '__repr__', '__setattr__', '__setstate__', '__sizeof__', '__str__', '__subclasshook__', '__weakref__', '_apply', '_backward_hooks', '_buffers', '_call_impl', '_forward_hooks', '_forward_pre_hooks', '_get_backward_hooks', '_get_name', '_initialize_weights', '_is_full_backward_hook', '_load_from_state_dict', '_load_state_dict_pre_hooks', '_maybe_warn_non_full_backward_hook', '_modules', '_named_members', '_non_persistent_buffers_set', '_parameters', '_register_load_state_dict_pre_hook', '_register_state_dict_hook', '_replicate_for_data_parallel', '_save_to_state_dict', '_slow_forward', '_state_dict_hooks', '_version', 'add_module', 'apply', 'avgpool', 'bfloat16', 'buffers', 'children', 'classifier', 'cpu', 'cuda', 'double', 'dump_patches', 'eval', 'extra_repr', 'features', 'float', 'forward', 'get_buffer', 'get_parameter', 'get_submodule', 'half', 'load_state_dict', 'modules', 'named_buffers', 'named_children', 'named_modules', 'named_parameters', 'parameters', 'register_backward_hook', 'register_buffer', 'register_forward_hook', 'register_forward_pre_hook', 'register_full_backward_hook', 'register_parameter', 'requires_grad_', 'share_memory', 'state_dict', 'to', 'to_empty', 'train', 'training', 'type', 'xpu', 'zero_grad']\n",
      "Sequential(\n",
      "  (0): Linear(in_features=25088, out_features=4096, bias=True)\n",
      "  (1): ReLU(inplace=True)\n",
      "  (2): Dropout(p=0.5, inplace=False)\n",
      "  (3): Linear(in_features=4096, out_features=4096, bias=True)\n",
      "  (4): ReLU(inplace=True)\n",
      "  (5): Dropout(p=0.5, inplace=False)\n",
      "  (6): Linear(in_features=4096, out_features=1000, bias=True)\n",
      ")\n"
     ]
    }
   ],
   "source": [
    "from torchvision import models\n",
    "\n",
    "model = models.vgg16(pretrained=True)\n",
    "\n",
    "print(dir(model))\n",
    "print(model.classifier)"
   ]
  },
  {
   "cell_type": "code",
   "execution_count": 28,
   "metadata": {},
   "outputs": [
    {
     "name": "stderr",
     "output_type": "stream",
     "text": [
      "Using cache found in /home/doranlyong/.cache/torch/hub/nvidia_DeepLearningExamples_torchhub\n",
      "/home/doranlyong/.cache/torch/hub/nvidia_DeepLearningExamples_torchhub/PyTorch/SpeechSynthesis/Tacotron2/waveglow/model.py:55: UserWarning: torch.qr is deprecated in favor of torch.linalg.qr and will be removed in a future PyTorch release.\n",
      "The boolean parameter 'some' has been replaced with a string parameter 'mode'.\n",
      "Q, R = torch.qr(A, some)\n",
      "should be replaced with\n",
      "Q, R = torch.linalg.qr(A, 'reduced' if some else 'complete') (Triggered internally at  /pytorch/aten/src/ATen/native/BatchLinearAlgebra.cpp:1940.)\n",
      "  W = torch.qr(torch.FloatTensor(c, c).normal_())[0]\n"
     ]
    }
   ],
   "source": [
    "\"\"\" 'Pytorch Hub' is another excellent resource for existing and pretrained PyTorch models. \n",
    "    Load models from another repository using the torch.hub.load() API. \n",
    "\"\"\"\n",
    "\n",
    "# i.e., call a model, WaveGlow, from the NVIDIA DeepLearningExamples repository. \n",
    "waveglow = torch.hub.load( 'nvidia/DeepLearningExamples:torchhub', \n",
    "                            'nvidia_waveglow'\n",
    "                        )"
   ]
  },
  {
   "cell_type": "code",
   "execution_count": 29,
   "metadata": {},
   "outputs": [
    {
     "name": "stderr",
     "output_type": "stream",
     "text": [
      "Using cache found in /home/doranlyong/.cache/torch/hub/nvidia_DeepLearningExamples_torchhub\n"
     ]
    },
    {
     "data": {
      "text/plain": [
       "['nvidia_ssd',\n",
       " 'nvidia_ssd_processing_utils',\n",
       " 'nvidia_tacotron2',\n",
       " 'nvidia_tts_utils',\n",
       " 'nvidia_waveglow']"
      ]
     },
     "execution_count": 29,
     "metadata": {},
     "output_type": "execute_result"
    }
   ],
   "source": [
    "# To explore all the available API endpoints of a particular repository \n",
    "# This lists all the models available in the 'nvidia/DeepLearningExamples:torchhub' repo. \n",
    "\n",
    "torch.hub.list( 'nvidia/DeepLearningExamples:torchhub' )"
   ]
  },
  {
   "cell_type": "markdown",
   "metadata": {},
   "source": [
    "## Model Design - custom NN model (p.71)\n",
    "using PyTorch NN module; ```torch.nn```\n",
    "\n",
    "Consist of :\n",
    "* input layer \n",
    "* hidden layer \n",
    "* output layer "
   ]
  },
  {
   "cell_type": "code",
   "execution_count": 30,
   "metadata": {},
   "outputs": [],
   "source": [
    "import torch \n",
    "import torch.nn as nn \n",
    "import torch.nn.functional as F \n",
    "\n",
    "\n",
    "class SimpleNet(nn.Module):\n",
    "    def __init__(self):\n",
    "        super(SimpleNet, self).__init__()   # super() function to execute the parent nn.Module class's __init__() method \n",
    "                                            # to initialize the class parameters. \n",
    "\n",
    "        self.fc1 = nn.Linear( in_features=2048, out_features=256 ) # (ref) https://pytorch.org/docs/stable/generated/torch.nn.Linear.html\n",
    "        self.fc2 = nn.Linear( 256, 64 )\n",
    "        self.fc3 = nn.Linear( 64, 2 )\n",
    "\n",
    "    def forward(self, x:torch.Tensor) -> torch.Tensor: # Define how the model processes data \n",
    "        assert x.dim() == 4, f\"Input tensor to temporal convolution must be 4d! but, {x.dim()}d tensor is given\"\n",
    "        \n",
    "        x = x.view(-1, 2048)\n",
    "        x = F.relu(self.fc1(x))\n",
    "        x = F.relu(self.fc2(x))\n",
    "        x = self.fc3(x)\n",
    "\n",
    "        return x "
   ]
  },
  {
   "cell_type": "code",
   "execution_count": 31,
   "metadata": {},
   "outputs": [
    {
     "name": "stdout",
     "output_type": "stream",
     "text": [
      "SimpleNet(\n",
      "  (fc1): Linear(in_features=2048, out_features=256, bias=True)\n",
      "  (fc2): Linear(in_features=256, out_features=64, bias=True)\n",
      "  (fc3): Linear(in_features=64, out_features=2, bias=True)\n",
      ")\n"
     ]
    }
   ],
   "source": [
    "# instantiating the model object \n",
    "\n",
    "model = SimpleNet() # Instantiate, or create the model\n",
    "\n",
    "print(model)"
   ]
  },
  {
   "cell_type": "code",
   "execution_count": 32,
   "metadata": {},
   "outputs": [
    {
     "name": "stdout",
     "output_type": "stream",
     "text": [
      "tensor([[-0.1938,  0.1466],\n",
      "        [-0.1824,  0.1057],\n",
      "        [-0.1688,  0.1187],\n",
      "        [-0.1095,  0.1547]], grad_fn=<AddmmBackward>)\n"
     ]
    }
   ],
   "source": [
    "input = torch.rand(4, 1, 1, 2048)  # (batch, channel, height, width)\n",
    "score = model(input)\n",
    "\n",
    "print(score)"
   ]
  },
  {
   "cell_type": "markdown",
   "metadata": {},
   "source": [
    "## Training (p.85) \n",
    "* training CIFAR-10 with ```LeNet5``` by ```Yann LeCun``` in the 1990s"
   ]
  },
  {
   "cell_type": "code",
   "execution_count": 33,
   "metadata": {},
   "outputs": [],
   "source": [
    "import torch.nn as nn \n",
    "import torch.nn.functional as F \n",
    "\n",
    "class LeNet5(nn.Module): \n",
    "    def __init__(self): \n",
    "        super(LeNet5, self).__init__() \n",
    "\n",
    "        self.conv1 = nn.Conv2d(in_channels=3, out_channels=6, kernel_size=5) # (ref) https://pytorch.org/docs/stable/generated/torch.nn.Conv2d.html\n",
    "        self.conv2 = nn.Conv2d(6, 16, 5)\n",
    "        self.fc1 = nn.Linear(in_features=16*5*5, out_features=120)\n",
    "        self.fc2 = nn.Linear(120, 84)\n",
    "        self.fc3 = nn.Linear(84, 10)\n",
    "\n",
    "    def forward(self, x:torch.Tensor) -> torch.Tensor:\n",
    "        assert x.dim() == 4, f\"Input tensor to temporal convolution must be 4d! but, {x.dim()}d tensor is given\"\n",
    "\n",
    "        x = F.max_pool2d( F.relu(self.conv1(x)), \n",
    "                          (2,2), # kernel size \n",
    "                        )\n",
    "        x = F.max_pool2d( F.relu(self.conv2(x)), 2 )\n",
    "#        print(x.shape)  # e.g., (4, 3, 32, 32) -> (4, 16, 5, 5)\n",
    "        x = x.view(-1, int(x.nelement() / x.shape[0]))  # num_elements / batch_size \n",
    "        x = F.relu(self.fc1(x))\n",
    "        x = F.relu(self.fc2(x))\n",
    "        x = self.fc3(x)\n",
    "\n",
    "        return x "
   ]
  },
  {
   "cell_type": "code",
   "execution_count": 34,
   "metadata": {},
   "outputs": [
    {
     "name": "stdout",
     "output_type": "stream",
     "text": [
      "torch.Size([4, 10])\n"
     ]
    },
    {
     "name": "stderr",
     "output_type": "stream",
     "text": [
      "/home/doranlyong/anaconda3/envs/py39/lib/python3.9/site-packages/torch/nn/functional.py:718: UserWarning: Named tensors and all their associated APIs are an experimental feature and subject to change. Please do not use them for anything important until they are released as stable. (Triggered internally at  /pytorch/c10/core/TensorImpl.h:1156.)\n",
      "  return torch.max_pool2d(input, kernel_size, stride, padding, dilation, ceil_mode)\n"
     ]
    }
   ],
   "source": [
    "device = \"cuda:0\" if torch.cuda.is_available() else \"cpu\"\n",
    "\n",
    "\n",
    "model = LeNet5().to(device) # Instantiate, or create the model\n",
    "\n",
    "# === TEST === # \n",
    "input = torch.rand(4, 3, 32, 32)  # (batch, channel, height, width)\n",
    "score = model(input.to(device))\n",
    "\n",
    "print(score.shape)"
   ]
  },
  {
   "cell_type": "markdown",
   "metadata": {},
   "source": [
    "## Fundamental Training Loop \n",
    "\n",
    "* define the loss function (called the ```criterion```)\n",
    "* define optimizer algorithm"
   ]
  },
  {
   "cell_type": "code",
   "execution_count": 35,
   "metadata": {},
   "outputs": [],
   "source": [
    "import torch.nn as nn \n",
    "import torch.optim as optim \n",
    "\n",
    "criterion = nn.CrossEntropyLoss() \n",
    "\n",
    "optimizer = optim.SGD( model.parameters(), # (!) be sure to pass in the model.parameters() \n",
    "                        lr=1e-3, \n",
    "                        momentum=0.9,\n",
    "                     ) "
   ]
  },
  {
   "cell_type": "code",
   "execution_count": 36,
   "metadata": {},
   "outputs": [
    {
     "name": "stdout",
     "output_type": "stream",
     "text": [
      " Epoch: 0, Avg_loss: 1.9350018263244628\n",
      " Epoch: 1, Avg_loss: 1.5838120969200133\n",
      " Epoch: 2, Avg_loss: 1.4504999675750732\n",
      " Epoch: 3, Avg_loss: 1.361796992111206\n",
      " Epoch: 4, Avg_loss: 1.3011036464309693\n",
      " Epoch: 5, Avg_loss: 1.254812949333191\n",
      " Epoch: 6, Avg_loss: 1.2209006089878083\n",
      " Epoch: 7, Avg_loss: 1.1894887944412231\n",
      " Epoch: 8, Avg_loss: 1.160944178981781\n",
      " Epoch: 9, Avg_loss: 1.1359832714271545\n"
     ]
    }
   ],
   "source": [
    "EPOCHS = 10 \n",
    "\n",
    "for epoch in range(EPOCHS): \n",
    "\n",
    "    model.train() # set train mode \n",
    "    batch_loss = 0.0 \n",
    "\n",
    "    for inputs, labels in trainloader: \n",
    "\n",
    "        inputs = inputs.to(device)\n",
    "        labels = labels.to(device)\n",
    "\n",
    "        # === forward \n",
    "        scores = model(inputs)\n",
    "        loss = criterion(scores, labels)\n",
    "        \n",
    "\n",
    "        # === backward \n",
    "        optimizer.zero_grad() # Zero out gradients before each backpropagation pass, or they'll accumulate. \n",
    "        loss.backward() \n",
    "\n",
    "\n",
    "        # === gradient descent, and step \n",
    "        optimizer.step() \n",
    "\n",
    "        # === accumulate batch loss \n",
    "        batch_loss += loss.item() \n",
    "\n",
    "    print(f\" Epoch: {epoch}, Avg_loss: {batch_loss / len(trainloader)}\")\n"
   ]
  },
  {
   "cell_type": "markdown",
   "metadata": {},
   "source": [
    "## Validation (p.94)\n",
    "* Splitting Training Dataset into Training & Validation Datasets"
   ]
  },
  {
   "cell_type": "code",
   "execution_count": 37,
   "metadata": {},
   "outputs": [
    {
     "data": {
      "text/plain": [
       "50000"
      ]
     },
     "execution_count": 37,
     "metadata": {},
     "output_type": "execute_result"
    }
   ],
   "source": [
    "len(train_data)"
   ]
  },
  {
   "cell_type": "code",
   "execution_count": 38,
   "metadata": {},
   "outputs": [
    {
     "name": "stdout",
     "output_type": "stream",
     "text": [
      "2500\n",
      "625\n"
     ]
    }
   ],
   "source": [
    "from torch.utils.data import random_split \n",
    "\n",
    "train_set, val_set = random_split(  train_data, \n",
    "                                    [40000, 10000], \n",
    "                                )\n",
    "\n",
    "trainloader = DataLoader(   train_set,     # p.62\n",
    "                            batch_size=16, \n",
    "                            shuffle=True, \n",
    "                            num_workers=3, \n",
    "                        )\n",
    "\n",
    "valloader = DataLoader( val_set,\n",
    "                        batch_size=16, \n",
    "                        shuffle=True,\n",
    "                        num_workers=3\n",
    "                       )  \n",
    "\n",
    "print(len(trainloader))    # 16 * 2500 = 40000                 \n",
    "print(len(valloader))      # 16 * 625 = 10000"
   ]
  },
  {
   "cell_type": "markdown",
   "metadata": {},
   "source": [
    "### training loop with validation "
   ]
  },
  {
   "cell_type": "code",
   "execution_count": 39,
   "metadata": {},
   "outputs": [],
   "source": [
    "import torch.nn as nn \n",
    "import torch.optim as optim\n",
    "\n",
    "\n",
    "model = LeNet5().to(device)\n",
    "\n",
    "criterion = nn.CrossEntropyLoss() \n",
    "optimizer = optim.SGD(  model.parameters(), \n",
    "                        lr=1e-3, \n",
    "                        momentum=0.9, \n",
    "                    )"
   ]
  },
  {
   "cell_type": "code",
   "execution_count": 40,
   "metadata": {},
   "outputs": [
    {
     "name": "stdout",
     "output_type": "stream",
     "text": [
      "Epoch: 0, avg_TrainLoss: 2.0477127197265625, avg_ValLoss: 1.8506497562408448\n",
      "Epoch: 1, avg_TrainLoss: 1.6999339406967162, avg_ValLoss: 1.6265272552490235\n",
      "Epoch: 2, avg_TrainLoss: 1.5589246153116225, avg_ValLoss: 1.5205268508911134\n",
      "Epoch: 3, avg_TrainLoss: 1.476604621744156, avg_ValLoss: 1.4567375440597534\n",
      "Epoch: 4, avg_TrainLoss: 1.4093870484113693, avg_ValLoss: 1.3948649516105651\n",
      "Epoch: 5, avg_TrainLoss: 1.3653048881530763, avg_ValLoss: 1.3376896905899047\n",
      "Epoch: 6, avg_TrainLoss: 1.321136818766594, avg_ValLoss: 1.3044609288215636\n",
      "Epoch: 7, avg_TrainLoss: 1.2820677130937577, avg_ValLoss: 1.30562296333313\n",
      "Epoch: 8, avg_TrainLoss: 1.2574018606305122, avg_ValLoss: 1.2835068096160889\n",
      "Epoch: 9, avg_TrainLoss: 1.23261748752594, avg_ValLoss: 1.2740140192985534\n"
     ]
    }
   ],
   "source": [
    "EPOCHS = 10 \n",
    "\n",
    "for epoch in range(EPOCHS): \n",
    "\n",
    "    # === Training === # \n",
    "    model.train() \n",
    "    train_loss = 0.0 \n",
    "\n",
    "    for inputs, labels in trainloader: \n",
    "        \n",
    "        inputs = inputs.to(device)\n",
    "        labels = labels.to(device)\n",
    "\n",
    "        # === forward \n",
    "        score = model(inputs)\n",
    "        loss = criterion(score, labels)\n",
    "\n",
    "        # === backward \n",
    "        optimizer.zero_grad() \n",
    "        loss.backward() \n",
    "\n",
    "        # === gradient descent, and step \n",
    "        optimizer.step() \n",
    "\n",
    "\n",
    "        # === accumulate batch loss \n",
    "        train_loss += loss.item() \n",
    "\n",
    "    \n",
    "    # === Validation === # \n",
    "    model.eval() \n",
    "    val_loss = 0.0 \n",
    "\n",
    "    for inputs, labels in valloader: \n",
    "        inputs = inputs.to(device)\n",
    "        labels = labels.to(device)\n",
    "\n",
    "        # === forward \n",
    "        score = model(inputs)\n",
    "        loss = criterion(score, labels)\n",
    "\n",
    "        # === accumulate batch loss \n",
    "        val_loss += loss.item() \n",
    "\n",
    "    \n",
    "    print(f\"Epoch: {epoch}, avg_TrainLoss: {train_loss/len(trainloader)}, avg_ValLoss: {val_loss/len(valloader)}\")\n",
    "\n",
    "\n",
    "\n",
    "        \n",
    "\n",
    "\n",
    "    \n",
    "    "
   ]
  },
  {
   "cell_type": "markdown",
   "metadata": {},
   "source": [
    "## Testing (p.97)"
   ]
  },
  {
   "cell_type": "code",
   "execution_count": 41,
   "metadata": {},
   "outputs": [
    {
     "name": "stdout",
     "output_type": "stream",
     "text": [
      "num_batches: 625, batch_size: 16\n",
      "Test ACC: 0.582\n"
     ]
    }
   ],
   "source": [
    "model.eval() \n",
    "num_correct = 0.0 \n",
    "\n",
    "for inputs, labels in testloader: \n",
    "    inputs = inputs.to(device)\n",
    "    labels = labels.to(device)\n",
    "\n",
    "    # inference \n",
    "    score = model(inputs)\n",
    "    score_max, idx = torch.max(score, 1) # select the class index with the highest score \n",
    "\n",
    "    # check correct\n",
    "    num_correct += ( idx == labels).float().sum() # compare the prediction to the true label \n",
    "                                                  # and count the number of correct predictions. \n",
    "\n",
    "\n",
    "# === Performance metric === # \n",
    "Acc = num_correct / (len(testloader) * testloader.batch_size)\n",
    "\n",
    "print(f\"num_batches: {len(testloader)}, batch_size: {testloader.batch_size}\")\n",
    "print(f\"Test ACC: {Acc:.3f}\")"
   ]
  },
  {
   "cell_type": "markdown",
   "metadata": {},
   "source": [
    "## Model Deployment (p.98)"
   ]
  },
  {
   "cell_type": "markdown",
   "metadata": {},
   "source": [
    "### Saving Models & Loading the Parameters \n",
    "* ```state_dict()```\n",
    "* ```load_state_dict```"
   ]
  },
  {
   "cell_type": "code",
   "execution_count": 44,
   "metadata": {},
   "outputs": [],
   "source": [
    "torch.save( model.state_dict(), \"./lenet5_model.pth\")"
   ]
  },
  {
   "cell_type": "code",
   "execution_count": 45,
   "metadata": {},
   "outputs": [
    {
     "data": {
      "text/plain": [
       "<All keys matched successfully>"
      ]
     },
     "execution_count": 45,
     "metadata": {},
     "output_type": "execute_result"
    }
   ],
   "source": [
    "# reload \n",
    "model = LeNet5().to(device) \n",
    "model.load_state_dict( torch.load(\"./lenet5_model.pth\") )"
   ]
  },
  {
   "cell_type": "markdown",
   "metadata": {},
   "source": [
    "### Deploy to PyTorch Hub"
   ]
  },
  {
   "cell_type": "code",
   "execution_count": 46,
   "metadata": {},
   "outputs": [],
   "source": [
    "dependencies = ['torch']\n",
    "from torchvision.models.vgg import vgg16"
   ]
  },
  {
   "cell_type": "code",
   "execution_count": null,
   "metadata": {},
   "outputs": [],
   "source": [
    "dependencies = ['torch']\n",
    "from torchvision.models.vgg import vgg16 as _vgg16\n",
    "\n",
    "# vgg16 is the name of the entrypoint \n",
    "def vgg16(pretrained=False, **kwargs):\n",
    "    \"\"\"\n",
    "        This docstring shows up in hub.help() VGG16 model\n",
    "        pretrained (bool): kwargs, load pretrained weights into the model\n",
    "\n",
    "    \"\"\"\n",
    "    # Call the model, load pretrained weights\n",
    "    model = _vgg16(pretrained=pretrained, **kwargs)\n",
    "    return model "
   ]
  }
 ],
 "metadata": {
  "interpreter": {
   "hash": "4b8843b2ce6a124445f967608eb4b7f6f94f33a6ef75c0de5d26718ab1266eb6"
  },
  "kernelspec": {
   "display_name": "Python 3.9.6 64-bit",
   "name": "python3"
  },
  "language_info": {
   "codemirror_mode": {
    "name": "ipython",
    "version": 3
   },
   "file_extension": ".py",
   "mimetype": "text/x-python",
   "name": "python",
   "nbconvert_exporter": "python",
   "pygments_lexer": "ipython3",
   "version": "3.9.6"
  },
  "orig_nbformat": 4
 },
 "nbformat": 4,
 "nbformat_minor": 2
}