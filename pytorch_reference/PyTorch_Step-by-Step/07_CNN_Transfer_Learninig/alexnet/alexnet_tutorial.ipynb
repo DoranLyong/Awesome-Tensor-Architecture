{
 "cells": [
  {
   "cell_type": "code",
   "execution_count": 2,
   "metadata": {},
   "outputs": [],
   "source": [
    "import numpy as np \n",
    "import matplotlib.pyplot as plt \n",
    "from tqdm import tqdm \n",
    "\n",
    "import torch\n",
    "import torch.nn as nn \n",
    "import torch.nn.functional as F \n",
    "import torch.optim as optim \n",
    "\n",
    "from SmithZero import D2torchEngine"
   ]
  },
  {
   "cell_type": "code",
   "execution_count": 3,
   "metadata": {},
   "outputs": [
    {
     "data": {
      "text/plain": [
       "<torch._C.Generator at 0x7f5bf090f490>"
      ]
     },
     "execution_count": 3,
     "metadata": {},
     "output_type": "execute_result"
    }
   ],
   "source": [
    "torch.manual_seed(42)"
   ]
  },
  {
   "cell_type": "markdown",
   "metadata": {},
   "source": [
    "## Data Preparation \n",
    "* [ImageNet2012](https://github.com/DoranLyong/ImageNet2012-download)\n",
    "* [Pytorch Dataloader](https://pytorch.org/vision/stable/datasets.html#imagenet)"
   ]
  },
  {
   "cell_type": "code",
   "execution_count": 4,
   "metadata": {},
   "outputs": [],
   "source": [
    "import torchvision.datasets as datasets \n",
    "import torchvision.transforms as T\n",
    "\n",
    "\n",
    "# === data transformation === # \n",
    "normalize = T.Normalize(mean=[0.485, 0.456, 0.406],\n",
    "                        std=[0.229, 0.224, 0.225])\n",
    "\n",
    "\n",
    "train_T = T.Compose([   T.RandomResizedCrop(224),\n",
    "                        T.RandomHorizontalFlip(), \n",
    "                        T.ToTensor(), \n",
    "                        normalize,\n",
    "                    ])\n",
    "\n",
    "test_T = T.Compose([T.Resize(256),\n",
    "                    T.CenterCrop(224),\n",
    "                    T.ToTensor(),\n",
    "                    normalize,\n",
    "                    ])                  \n",
    "\n",
    "\n",
    "# === dataset object === # \n",
    "train_dataset = datasets.ImageFolder(   root= './dataset/train',\n",
    "                                        transform= train_T, \n",
    "                                    )\n",
    "\n",
    "test_dataset = datasets.ImageFolder(    root= \"./dataset/val\", \n",
    "                                        transform= test_T,\n",
    "                                    ) "
   ]
  },
  {
   "cell_type": "markdown",
   "metadata": {},
   "source": [
    "## Data Batching "
   ]
  },
  {
   "cell_type": "code",
   "execution_count": 5,
   "metadata": {},
   "outputs": [],
   "source": [
    "from torch.utils.data import DataLoader\n",
    "\n",
    "trainloader = DataLoader(train_dataset,\n",
    "                        batch_size=256,\n",
    "                        shuffle=True, \n",
    "                        num_workers=4 \n",
    "                        )\n",
    "\n",
    "testloader = DataLoader(test_dataset,\n",
    "                        batch_size=256,\n",
    "                        num_workers=4\n",
    "                        )"
   ]
  },
  {
   "cell_type": "markdown",
   "metadata": {},
   "source": [
    "```ImageNet2012``` has 1000-class "
   ]
  },
  {
   "cell_type": "markdown",
   "metadata": {},
   "source": [
    "***\n",
    "# Transfer Learning in Practice (AlexNet)"
   ]
  },
  {
   "cell_type": "code",
   "execution_count": 6,
   "metadata": {},
   "outputs": [],
   "source": [
    "from torchvision.models import alexnet "
   ]
  },
  {
   "cell_type": "markdown",
   "metadata": {},
   "source": [
    "### Pre-trained Model"
   ]
  },
  {
   "cell_type": "code",
   "execution_count": 7,
   "metadata": {},
   "outputs": [
    {
     "name": "stdout",
     "output_type": "stream",
     "text": [
      "AlexNet(\n",
      "  (features): Sequential(\n",
      "    (0): Conv2d(3, 64, kernel_size=(11, 11), stride=(4, 4), padding=(2, 2))\n",
      "    (1): ReLU(inplace=True)\n",
      "    (2): MaxPool2d(kernel_size=3, stride=2, padding=0, dilation=1, ceil_mode=False)\n",
      "    (3): Conv2d(64, 192, kernel_size=(5, 5), stride=(1, 1), padding=(2, 2))\n",
      "    (4): ReLU(inplace=True)\n",
      "    (5): MaxPool2d(kernel_size=3, stride=2, padding=0, dilation=1, ceil_mode=False)\n",
      "    (6): Conv2d(192, 384, kernel_size=(3, 3), stride=(1, 1), padding=(1, 1))\n",
      "    (7): ReLU(inplace=True)\n",
      "    (8): Conv2d(384, 256, kernel_size=(3, 3), stride=(1, 1), padding=(1, 1))\n",
      "    (9): ReLU(inplace=True)\n",
      "    (10): Conv2d(256, 256, kernel_size=(3, 3), stride=(1, 1), padding=(1, 1))\n",
      "    (11): ReLU(inplace=True)\n",
      "    (12): MaxPool2d(kernel_size=3, stride=2, padding=0, dilation=1, ceil_mode=False)\n",
      "  )\n",
      "  (avgpool): AdaptiveAvgPool2d(output_size=(6, 6))\n",
      "  (classifier): Sequential(\n",
      "    (0): Dropout(p=0.5, inplace=False)\n",
      "    (1): Linear(in_features=9216, out_features=4096, bias=True)\n",
      "    (2): ReLU(inplace=True)\n",
      "    (3): Dropout(p=0.5, inplace=False)\n",
      "    (4): Linear(in_features=4096, out_features=4096, bias=True)\n",
      "    (5): ReLU(inplace=True)\n",
      "    (6): Linear(in_features=4096, out_features=1000, bias=True)\n",
      "  )\n",
      ")\n"
     ]
    }
   ],
   "source": [
    "# creating an instance of AlexNet without loading its pre-trained weights \n",
    "model = alexnet(pretrained=False) \n",
    "\n",
    "print(model)"
   ]
  },
  {
   "cell_type": "markdown",
   "metadata": {},
   "source": [
    "Looking the structure, the architecture has three main elements:\n",
    "* ```features```, ```avgpool```, ```classifier``` \n",
    "    * the featurizer contains five typical convolutional blocks \n",
    "    * ```avgpool```: whatever the image size it gets as input, it will ```return a tensor with the desired size```\n",
    "    * the classifier has two hidden layers using 50% dropout "
   ]
  },
  {
   "cell_type": "code",
   "execution_count": 8,
   "metadata": {},
   "outputs": [
    {
     "data": {
      "text/plain": [
       "[('',\n",
       "  AlexNet(\n",
       "    (features): Sequential(\n",
       "      (0): Conv2d(3, 64, kernel_size=(11, 11), stride=(4, 4), padding=(2, 2))\n",
       "      (1): ReLU(inplace=True)\n",
       "      (2): MaxPool2d(kernel_size=3, stride=2, padding=0, dilation=1, ceil_mode=False)\n",
       "      (3): Conv2d(64, 192, kernel_size=(5, 5), stride=(1, 1), padding=(2, 2))\n",
       "      (4): ReLU(inplace=True)\n",
       "      (5): MaxPool2d(kernel_size=3, stride=2, padding=0, dilation=1, ceil_mode=False)\n",
       "      (6): Conv2d(192, 384, kernel_size=(3, 3), stride=(1, 1), padding=(1, 1))\n",
       "      (7): ReLU(inplace=True)\n",
       "      (8): Conv2d(384, 256, kernel_size=(3, 3), stride=(1, 1), padding=(1, 1))\n",
       "      (9): ReLU(inplace=True)\n",
       "      (10): Conv2d(256, 256, kernel_size=(3, 3), stride=(1, 1), padding=(1, 1))\n",
       "      (11): ReLU(inplace=True)\n",
       "      (12): MaxPool2d(kernel_size=3, stride=2, padding=0, dilation=1, ceil_mode=False)\n",
       "    )\n",
       "    (avgpool): AdaptiveAvgPool2d(output_size=(6, 6))\n",
       "    (classifier): Sequential(\n",
       "      (0): Dropout(p=0.5, inplace=False)\n",
       "      (1): Linear(in_features=9216, out_features=4096, bias=True)\n",
       "      (2): ReLU(inplace=True)\n",
       "      (3): Dropout(p=0.5, inplace=False)\n",
       "      (4): Linear(in_features=4096, out_features=4096, bias=True)\n",
       "      (5): ReLU(inplace=True)\n",
       "      (6): Linear(in_features=4096, out_features=1000, bias=True)\n",
       "    )\n",
       "  )),\n",
       " ('features',\n",
       "  Sequential(\n",
       "    (0): Conv2d(3, 64, kernel_size=(11, 11), stride=(4, 4), padding=(2, 2))\n",
       "    (1): ReLU(inplace=True)\n",
       "    (2): MaxPool2d(kernel_size=3, stride=2, padding=0, dilation=1, ceil_mode=False)\n",
       "    (3): Conv2d(64, 192, kernel_size=(5, 5), stride=(1, 1), padding=(2, 2))\n",
       "    (4): ReLU(inplace=True)\n",
       "    (5): MaxPool2d(kernel_size=3, stride=2, padding=0, dilation=1, ceil_mode=False)\n",
       "    (6): Conv2d(192, 384, kernel_size=(3, 3), stride=(1, 1), padding=(1, 1))\n",
       "    (7): ReLU(inplace=True)\n",
       "    (8): Conv2d(384, 256, kernel_size=(3, 3), stride=(1, 1), padding=(1, 1))\n",
       "    (9): ReLU(inplace=True)\n",
       "    (10): Conv2d(256, 256, kernel_size=(3, 3), stride=(1, 1), padding=(1, 1))\n",
       "    (11): ReLU(inplace=True)\n",
       "    (12): MaxPool2d(kernel_size=3, stride=2, padding=0, dilation=1, ceil_mode=False)\n",
       "  )),\n",
       " ('features.0',\n",
       "  Conv2d(3, 64, kernel_size=(11, 11), stride=(4, 4), padding=(2, 2))),\n",
       " ('features.1', ReLU(inplace=True)),\n",
       " ('features.2',\n",
       "  MaxPool2d(kernel_size=3, stride=2, padding=0, dilation=1, ceil_mode=False)),\n",
       " ('features.3',\n",
       "  Conv2d(64, 192, kernel_size=(5, 5), stride=(1, 1), padding=(2, 2))),\n",
       " ('features.4', ReLU(inplace=True)),\n",
       " ('features.5',\n",
       "  MaxPool2d(kernel_size=3, stride=2, padding=0, dilation=1, ceil_mode=False)),\n",
       " ('features.6',\n",
       "  Conv2d(192, 384, kernel_size=(3, 3), stride=(1, 1), padding=(1, 1))),\n",
       " ('features.7', ReLU(inplace=True)),\n",
       " ('features.8',\n",
       "  Conv2d(384, 256, kernel_size=(3, 3), stride=(1, 1), padding=(1, 1))),\n",
       " ('features.9', ReLU(inplace=True)),\n",
       " ('features.10',\n",
       "  Conv2d(256, 256, kernel_size=(3, 3), stride=(1, 1), padding=(1, 1))),\n",
       " ('features.11', ReLU(inplace=True)),\n",
       " ('features.12',\n",
       "  MaxPool2d(kernel_size=3, stride=2, padding=0, dilation=1, ceil_mode=False)),\n",
       " ('avgpool', AdaptiveAvgPool2d(output_size=(6, 6))),\n",
       " ('classifier',\n",
       "  Sequential(\n",
       "    (0): Dropout(p=0.5, inplace=False)\n",
       "    (1): Linear(in_features=9216, out_features=4096, bias=True)\n",
       "    (2): ReLU(inplace=True)\n",
       "    (3): Dropout(p=0.5, inplace=False)\n",
       "    (4): Linear(in_features=4096, out_features=4096, bias=True)\n",
       "    (5): ReLU(inplace=True)\n",
       "    (6): Linear(in_features=4096, out_features=1000, bias=True)\n",
       "  )),\n",
       " ('classifier.0', Dropout(p=0.5, inplace=False)),\n",
       " ('classifier.1', Linear(in_features=9216, out_features=4096, bias=True)),\n",
       " ('classifier.2', ReLU(inplace=True)),\n",
       " ('classifier.3', Dropout(p=0.5, inplace=False)),\n",
       " ('classifier.4', Linear(in_features=4096, out_features=4096, bias=True)),\n",
       " ('classifier.5', ReLU(inplace=True)),\n",
       " ('classifier.6', Linear(in_features=4096, out_features=1000, bias=True))]"
      ]
     },
     "execution_count": 8,
     "metadata": {},
     "output_type": "execute_result"
    }
   ],
   "source": [
    "list(model.named_modules())"
   ]
  },
  {
   "cell_type": "markdown",
   "metadata": {},
   "source": [
    "### Loading Weights \n",
    "You can get the URL from the ```model_urls``` variable in ```torchvision.models.alexnet```."
   ]
  },
  {
   "cell_type": "code",
   "execution_count": 9,
   "metadata": {},
   "outputs": [
    {
     "name": "stdout",
     "output_type": "stream",
     "text": [
      "https://download.pytorch.org/models/alexnet-owt-7be5be79.pth\n"
     ]
    }
   ],
   "source": [
    "from torchvision.models.alexnet import model_urls\n",
    "from torch.hub import load_state_dict_from_url    # (ref) https://pytorch.org/docs/stable/hub.html\n",
    "\n",
    "# get pre-trained weights URL \n",
    "url = model_urls['alexnet']\n",
    "print(url)"
   ]
  },
  {
   "cell_type": "code",
   "execution_count": 10,
   "metadata": {},
   "outputs": [],
   "source": [
    "# loading the pre-trained weights from the URL  to your local disk \n",
    "# (ref) https://www.programcreek.com/python/example/118276/torchvision.models.utils.load_state_dict_from_url\n",
    "state_dict = load_state_dict_from_url(  url, \n",
    "                                        model_dir = 'pretrained',\n",
    "                                        progress=True,\n",
    "                                    )"
   ]
  },
  {
   "cell_type": "code",
   "execution_count": 11,
   "metadata": {},
   "outputs": [
    {
     "data": {
      "text/plain": [
       "odict_keys(['features.0.weight', 'features.0.bias', 'features.3.weight', 'features.3.bias', 'features.6.weight', 'features.6.bias', 'features.8.weight', 'features.8.bias', 'features.10.weight', 'features.10.bias', 'classifier.1.weight', 'classifier.1.bias', 'classifier.4.weight', 'classifier.4.bias', 'classifier.6.weight', 'classifier.6.bias'])"
      ]
     },
     "execution_count": 11,
     "metadata": {},
     "output_type": "execute_result"
    }
   ],
   "source": [
    "state_dict.keys()"
   ]
  },
  {
   "cell_type": "code",
   "execution_count": 12,
   "metadata": {},
   "outputs": [
    {
     "data": {
      "text/plain": [
       "<All keys matched successfully>"
      ]
     },
     "execution_count": 12,
     "metadata": {},
     "output_type": "execute_result"
    }
   ],
   "source": [
    "# Loading model \n",
    "model.load_state_dict(state_dict)"
   ]
  },
  {
   "cell_type": "markdown",
   "metadata": {},
   "source": [
    "## Model Freezing \n",
    "If you don't want to continue training the whole model : \n",
    "* you could pick it up where it was left off(중단) by the original authors\n",
    "* and ```resume training``` using your own dataset.\n",
    "\n",
    "```Freezing the model``` means that <b>it won't learn anymore</b>, that is, <b>its parameters/weights will not be updated anymore</b>.\n",
    "* what best characterizes a tensor representing a ```learnable parameter```? \n",
    "    * it requires ```gradients```\n",
    "    * So, we can make them stop learning anything by changing its boolean like a switch (ON/OFF)"
   ]
  },
  {
   "cell_type": "code",
   "execution_count": 13,
   "metadata": {},
   "outputs": [
    {
     "name": "stdout",
     "output_type": "stream",
     "text": [
      "torch.Size([64, 3, 11, 11]), True\n",
      "torch.Size([64]), True\n",
      "torch.Size([192, 64, 5, 5]), True\n",
      "torch.Size([192]), True\n",
      "torch.Size([384, 192, 3, 3]), True\n",
      "torch.Size([384]), True\n",
      "torch.Size([256, 384, 3, 3]), True\n",
      "torch.Size([256]), True\n",
      "torch.Size([256, 256, 3, 3]), True\n",
      "torch.Size([256]), True\n",
      "torch.Size([4096, 9216]), True\n",
      "torch.Size([4096]), True\n",
      "torch.Size([4096, 4096]), True\n",
      "torch.Size([4096]), True\n",
      "torch.Size([1000, 4096]), True\n",
      "torch.Size([1000]), True\n"
     ]
    }
   ],
   "source": [
    "# Show the learnable parameters of the model \n",
    "for parameter in model.parameters():\n",
    "    print(f\"{parameter.size()}, {parameter.requires_grad}\")"
   ]
  },
  {
   "cell_type": "code",
   "execution_count": 14,
   "metadata": {},
   "outputs": [],
   "source": [
    "# set gradient as OFF \n",
    "\n",
    "def freeze_model(model):\n",
    "    for parameter in model.parameters():\n",
    "        parameter.requires_grad = False"
   ]
  },
  {
   "cell_type": "code",
   "execution_count": 15,
   "metadata": {},
   "outputs": [],
   "source": [
    "# free your model \n",
    "freeze_model(model)"
   ]
  },
  {
   "cell_type": "code",
   "execution_count": 16,
   "metadata": {},
   "outputs": [
    {
     "name": "stdout",
     "output_type": "stream",
     "text": [
      "torch.Size([64, 3, 11, 11]), False\n",
      "torch.Size([64]), False\n",
      "torch.Size([192, 64, 5, 5]), False\n",
      "torch.Size([192]), False\n",
      "torch.Size([384, 192, 3, 3]), False\n",
      "torch.Size([384]), False\n",
      "torch.Size([256, 384, 3, 3]), False\n",
      "torch.Size([256]), False\n",
      "torch.Size([256, 256, 3, 3]), False\n",
      "torch.Size([256]), False\n",
      "torch.Size([4096, 9216]), False\n",
      "torch.Size([4096]), False\n",
      "torch.Size([4096, 4096]), False\n",
      "torch.Size([4096]), False\n",
      "torch.Size([1000, 4096]), False\n",
      "torch.Size([1000]), False\n"
     ]
    }
   ],
   "source": [
    "for parameter in model.parameters():\n",
    "    print(f\"{parameter.size()}, {parameter.requires_grad}\")"
   ]
  },
  {
   "cell_type": "markdown",
   "metadata": {},
   "source": [
    "your model is frozen now :) "
   ]
  },
  {
   "cell_type": "markdown",
   "metadata": {},
   "source": [
    "## Replacing the top of the model (for fine-tune)\n",
    "* ```backbone``` : bottom \n",
    "* ```classifier``` : top "
   ]
  },
  {
   "cell_type": "code",
   "execution_count": 17,
   "metadata": {},
   "outputs": [
    {
     "name": "stdout",
     "output_type": "stream",
     "text": [
      "Sequential(\n",
      "  (0): Dropout(p=0.5, inplace=False)\n",
      "  (1): Linear(in_features=9216, out_features=4096, bias=True)\n",
      "  (2): ReLU(inplace=True)\n",
      "  (3): Dropout(p=0.5, inplace=False)\n",
      "  (4): Linear(in_features=4096, out_features=4096, bias=True)\n",
      "  (5): ReLU(inplace=True)\n",
      "  (6): Linear(in_features=4096, out_features=1000, bias=True)\n",
      ")\n"
     ]
    }
   ],
   "source": [
    "print(model.classifier)"
   ]
  },
  {
   "cell_type": "markdown",
   "metadata": {},
   "source": [
    "![](./page_imgs/alexnet.png)\n",
    "\n",
    "*Source: Generated using Alexander Lenail’s [NN-SVG](http://alexlenail.me/NN-SVG/) and adapted by the author* "
   ]
  },
  {
   "cell_type": "code",
   "execution_count": 18,
   "metadata": {},
   "outputs": [
    {
     "data": {
      "text/plain": [
       "Linear(in_features=4096, out_features=1000, bias=True)"
      ]
     },
     "execution_count": 18,
     "metadata": {},
     "output_type": "execute_result"
    }
   ],
   "source": [
    "# Check the top \n",
    "model.classifier[6]   "
   ]
  },
  {
   "cell_type": "markdown",
   "metadata": {},
   "source": [
    "```out_features=1000``` ⇒ nodes for 1000-class"
   ]
  },
  {
   "cell_type": "code",
   "execution_count": 19,
   "metadata": {},
   "outputs": [],
   "source": [
    "torch.manual_seed(11)\n",
    "\n",
    "#model.classifier[6] = nn.Linear(4096, 10)    # for cifar-10\n",
    "model.classifier[6] = nn.Linear(4096, 1000)  # for ImageNet"
   ]
  },
  {
   "cell_type": "markdown",
   "metadata": {},
   "source": [
    "Notice that the <b>number of input features remains the same</b> since it still takes the\n",
    "output from the hidden layer that precedes it.\n",
    "\n",
    "(!) The <b>new output layer requires gradients by default</b>, but we can double-check it:"
   ]
  },
  {
   "cell_type": "code",
   "execution_count": 20,
   "metadata": {},
   "outputs": [
    {
     "name": "stdout",
     "output_type": "stream",
     "text": [
      "features.0.weight, False\n",
      "features.0.bias, False\n",
      "features.3.weight, False\n",
      "features.3.bias, False\n",
      "features.6.weight, False\n",
      "features.6.bias, False\n",
      "features.8.weight, False\n",
      "features.8.bias, False\n",
      "features.10.weight, False\n",
      "features.10.bias, False\n",
      "classifier.1.weight, False\n",
      "classifier.1.bias, False\n",
      "classifier.4.weight, False\n",
      "classifier.4.bias, False\n",
      "classifier.6.weight, True\n",
      "classifier.6.bias, True\n"
     ]
    }
   ],
   "source": [
    "for name, param in model.named_parameters(): \n",
    "    print(f\"{name}, {param.requires_grad}\")"
   ]
  },
  {
   "cell_type": "markdown",
   "metadata": {},
   "source": [
    "You can see that the top part by ```model.classifier[6]``` is set to ```True```.\n",
    "* These are the only things to be trained"
   ]
  },
  {
   "cell_type": "markdown",
   "metadata": {},
   "source": [
    "*** \n",
    "## W&B setup "
   ]
  },
  {
   "cell_type": "code",
   "execution_count": 21,
   "metadata": {},
   "outputs": [],
   "source": [
    "# === hyperparameter dict === # \n",
    "# you can receive with .yaml or .json \n",
    "\n",
    "hyperparams = dict(\n",
    "        seed=42, \n",
    "        epochs=50,\n",
    "        classes=1000,\n",
    "        batch_size=128,\n",
    "        n_workers=4,\n",
    "        learning_rate=3e-4,\n",
    "        dropout_p = 0.5,\n",
    "        dataset=\"ImageNet\",\n",
    "        architecture=\"AlexNet\")"
   ]
  },
  {
   "cell_type": "code",
   "execution_count": 22,
   "metadata": {},
   "outputs": [
    {
     "name": "stderr",
     "output_type": "stream",
     "text": [
      "Failed to detect the name of this notebook, you can set it manually with the WANDB_NOTEBOOK_NAME environment variable to enable code saving.\n",
      "\u001b[34m\u001b[1mwandb\u001b[0m: Currently logged in as: \u001b[33mdoranlyong\u001b[0m (use `wandb login --relogin` to force relogin)\n"
     ]
    },
    {
     "data": {
      "text/plain": [
       "True"
      ]
     },
     "execution_count": 22,
     "metadata": {},
     "output_type": "execute_result"
    }
   ],
   "source": [
    "import wandb \n",
    "\n",
    "wandb.login() "
   ]
  },
  {
   "cell_type": "code",
   "execution_count": 23,
   "metadata": {},
   "outputs": [
    {
     "name": "stderr",
     "output_type": "stream",
     "text": [
      "/home/milky/anaconda3/envs/py38/lib/python3.8/site-packages/IPython/html.py:12: ShimWarning: The `IPython.html` package has been deprecated since IPython 4.0. You should import from `notebook` instead. `IPython.html.widgets` has moved to `ipywidgets`.\n",
      "  warn(\"The `IPython.html` package has been deprecated since IPython 4.0. \"\n",
      "\u001b[34m\u001b[1mwandb\u001b[0m: wandb version 0.12.9 is available!  To upgrade, please run:\n",
      "\u001b[34m\u001b[1mwandb\u001b[0m:  $ pip install wandb --upgrade\n"
     ]
    },
    {
     "data": {
      "text/html": [
       "\n",
       "                    Syncing run <strong><a href=\"https://wandb.ai/doranlyong/AlexNet-ImageNet/runs/2g00c144\" target=\"_blank\">dry-water-4</a></strong> to <a href=\"https://wandb.ai/doranlyong/AlexNet-ImageNet\" target=\"_blank\">Weights & Biases</a> (<a href=\"https://docs.wandb.com/integrations/jupyter.html\" target=\"_blank\">docs</a>).<br/>\n",
       "\n",
       "                "
      ],
      "text/plain": [
       "<IPython.core.display.HTML object>"
      ]
     },
     "metadata": {},
     "output_type": "display_data"
    }
   ],
   "source": [
    "proj_name = \"AlexNet-ImageNet\"\n",
    "\n",
    "wandb.init(project=proj_name, config=hyperparams)\n",
    "config = wandb.config "
   ]
  },
  {
   "cell_type": "markdown",
   "metadata": {},
   "source": [
    "## Model Configuration "
   ]
  },
  {
   "cell_type": "code",
   "execution_count": 24,
   "metadata": {},
   "outputs": [],
   "source": [
    "torch.manual_seed(17)\n",
    "\n",
    "loss_fn = nn.CrossEntropyLoss(reduction='mean') \n",
    "optimizer = optim.Adam( model.parameters(), # (!) be sure to pass in the model.parameters() \n",
    "                        lr=config.learning_rate, \n",
    "                    ) "
   ]
  },
  {
   "cell_type": "code",
   "execution_count": 25,
   "metadata": {},
   "outputs": [],
   "source": [
    "AgentDL = D2torchEngine(model, loss_fn, optimizer)\n",
    "\n",
    "AgentDL.set_loaders(trainloader, testloader)\n",
    "AgentDL.set_wandb(wandb)"
   ]
  },
  {
   "cell_type": "code",
   "execution_count": 26,
   "metadata": {},
   "outputs": [
    {
     "name": "stderr",
     "output_type": "stream",
     "text": [
      " 92%|█████████▏| 92/100 [00:37<00:03,  2.44it/s]"
     ]
    },
    {
     "name": "stdout",
     "output_type": "stream",
     "text": [
      "Stopping early, the loss has diverged\n",
      "Learning rate search finished. See the graph with {finder_name}.plot()\n"
     ]
    },
    {
     "name": "stderr",
     "output_type": "stream",
     "text": [
      "\n"
     ]
    },
    {
     "name": "stdout",
     "output_type": "stream",
     "text": [
      "LR suggestion: steepest gradient\n",
      "Suggested LR: 1.23E-03\n"
     ]
    },
    {
     "data": {
      "image/png": "[encoded data removed]",
      "text/plain": [
       "<Figure size 432x288 with 1 Axes>"
      ]
     },
     "metadata": {
      "needs_background": "light"
     },
     "output_type": "display_data"
    }
   ],
   "source": [
    "# === Learning Rate Range Test === # \n",
    "fig = AgentDL.lr_range_test(end_lr=1e-1, num_iter=100)"
   ]
  },
  {
   "cell_type": "code",
   "execution_count": 26,
   "metadata": {},
   "outputs": [],
   "source": [
    "# === reset the optimzier === # \n",
    "#reset_optimizer = optim.Adam(  model.parameters(), lr=5.34e-3) \n",
    "#AgentDL.set_optimizer(reset_optimizer) "
   ]
  },
  {
   "cell_type": "markdown",
   "metadata": {},
   "source": [
    "## Set a scheduler "
   ]
  },
  {
   "cell_type": "code",
   "execution_count": 27,
   "metadata": {},
   "outputs": [],
   "source": [
    "from torch.optim.lr_scheduler import CosineAnnealingWarmRestarts\n",
    "\n",
    "scheduler = CosineAnnealingWarmRestarts(optimizer, T_0=20, T_mult=4, eta_min=1e-5, last_epoch= -1, verbose=False)\n",
    "\n",
    "AgentDL.set_lr_scheduler(scheduler)"
   ]
  },
  {
   "cell_type": "code",
   "execution_count": 28,
   "metadata": {},
   "outputs": [
    {
     "data": {
      "text/plain": [
       "True"
      ]
     },
     "execution_count": 28,
     "metadata": {},
     "output_type": "execute_result"
    }
   ],
   "source": [
    "AgentDL.optimizer == AgentDL.scheduler.optimizer"
   ]
  },
  {
   "cell_type": "markdown",
   "metadata": {},
   "source": [
    "## Model Training "
   ]
  },
  {
   "cell_type": "code",
   "execution_count": 29,
   "metadata": {},
   "outputs": [
    {
     "name": "stderr",
     "output_type": "stream",
     "text": [
      " 13%|█▎        | 13/100 [7:44:37<51:22:46, 2126.06s/it]wandb: Network error (ReadTimeout), entering retry loop.\n",
      "100%|██████████| 100/100 [57:52:40<00:00, 2083.60s/it]\n"
     ]
    }
   ],
   "source": [
    "AgentDL.train(n_epochs=100, seed=config.seed)"
   ]
  },
  {
   "cell_type": "code",
   "execution_count": 31,
   "metadata": {},
   "outputs": [
    {
     "name": "stdout",
     "output_type": "stream",
     "text": [
      "tensor([[ 0, 50],\n",
      "        [ 0, 50],\n",
      "        [ 0, 50],\n",
      "        ...,\n",
      "        [ 0, 50],\n",
      "        [ 0, 50],\n",
      "        [ 0, 50]])\n"
     ]
    }
   ],
   "source": [
    "# evaluating our model after training \n",
    "results = D2torchEngine.loader_apply(AgentDL.val_loader, AgentDL.correct, reduce=\"sum\")\n",
    "print(results)"
   ]
  },
  {
   "cell_type": "markdown",
   "metadata": {},
   "source": [
    "***\n",
    "# More Effective Transfer Learning (p.582)\n",
    "To split the ```feature extraction``` and ```actual training``` phases"
   ]
  },
  {
   "cell_type": "code",
   "execution_count": null,
   "metadata": {},
   "outputs": [],
   "source": []
  }
 ],
 "metadata": {
  "interpreter": {
   "hash": "f38f9a92a40eacf7671051530596ac31a08fa1747600811db2b78ca4cf9fd4a6"
  },
  "kernelspec": {
   "display_name": "Python 3.8.12 64-bit ('py38': conda)",
   "language": "python",
   "name": "python3"
  },
  "language_info": {
   "codemirror_mode": {
    "name": "ipython",
    "version": 3
   },
   "file_extension": ".py",
   "mimetype": "text/x-python",
   "name": "python",
   "nbconvert_exporter": "python",
   "pygments_lexer": "ipython3",
   "version": "3.8.12"
  },
  "orig_nbformat": 4
 },
 "nbformat": 4,
 "nbformat_minor": 2
}
