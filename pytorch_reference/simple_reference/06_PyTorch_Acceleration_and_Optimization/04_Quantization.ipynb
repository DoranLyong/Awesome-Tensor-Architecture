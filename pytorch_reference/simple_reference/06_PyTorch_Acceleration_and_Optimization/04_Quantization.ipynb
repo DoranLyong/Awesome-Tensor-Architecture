{
 "cells": [
  {
   "cell_type": "markdown",
   "metadata": {},
   "source": [
    "[![Open In Colab](https://colab.research.google.com/assets/colab-badge.svg)](https://colab.research.google.com/github/DoranLyong/Awesome-Tensor-Architecture/blob/main/pytorch_reference/simple_reference/06_PyTorch_Acceleration_and_Optimization/04_Quantization.ipynb)\n",
    "\n"
   ]
  },
  {
   "cell_type": "markdown",
   "metadata": {},
   "source": [
    "# Quantization (p.178) - ([ref](https://pytorch.org/docs/stable/quantization.html))\n",
    "```NN```s are implemented as ```computational graphs```, and their computations often use ```32-bit``` (or 64-bit) floating-point numbers. <br/>\n",
    "Compute to ```lower-precision``` numbers and still acheive ```comparable results``` by applying quantization.\n"
   ]
  },
  {
   "cell_type": "markdown",
   "metadata": {},
   "source": [
    "__Quantization__ refers to techniques for ```computing``` and ```accessing memory``` with ```lower-precision``` data.\n",
    "\n",
    "(effectiveness)\n",
    "* decreasing ```model size```\n",
    "* reducing ```memory bandwidth```\n",
    "* faster inference due to savings in memory bandwidth\n",
    "* faster computing with ```int8``` arithmetic"
   ]
  },
  {
   "cell_type": "code",
   "execution_count": 4,
   "metadata": {},
   "outputs": [],
   "source": [
    "import torch \n",
    "import torch.nn as nn\n",
    "import torch.optim as optim \n",
    "import torch.nn.functional as F "
   ]
  },
  {
   "cell_type": "markdown",
   "metadata": {},
   "source": [
    "We use CPU backend for this example."
   ]
  },
  {
   "cell_type": "markdown",
   "metadata": {},
   "source": [
    "### Basic Model (p.179)"
   ]
  },
  {
   "cell_type": "code",
   "execution_count": 5,
   "metadata": {},
   "outputs": [],
   "source": [
    "class LeNet5(nn.Module):\n",
    "    def __init__(self):\n",
    "        super(LeNet5, self).__init__()\n",
    "        self.conv1 = nn.Conv2d(3, 6, 5)\n",
    "        self.conv2 = nn.Conv2d(6, 16, 5)\n",
    "        self.fc1 = nn.Linear(16 * 5 * 5, 120)\n",
    "        self.fc2 = nn.Linear(120, 84)\n",
    "        self.fc3 = nn.Linear(84, 10)\n",
    "\n",
    "    def forward(self, x):\n",
    "        x = F.max_pool2d( F.relu(self.conv1(x)), (2, 2))\n",
    "        x = F.max_pool2d( F.relu(self.conv2(x)), 2)\n",
    "        x = x.view(-1, int(x.nelement() / x.shape[0]))\n",
    "        x = F.relu(self.fc1(x))\n",
    "        x = F.relu(self.fc2(x))\n",
    "        x = self.fc3(x)\n",
    "        return x"
   ]
  },
  {
   "cell_type": "code",
   "execution_count": 6,
   "metadata": {},
   "outputs": [],
   "source": [
    "x = torch.randn(4, 3, 32, 32)\n",
    "\n",
    "model = LeNet5()\n",
    "scores = model(x)"
   ]
  },
  {
   "cell_type": "markdown",
   "metadata": {},
   "source": [
    "(Above) all ```computations``` and ```memory``` are implemented as ```float32``` in basic."
   ]
  },
  {
   "cell_type": "code",
   "execution_count": 8,
   "metadata": {},
   "outputs": [
    {
     "name": "stdout",
     "output_type": "stream",
     "text": [
      "conv1.weight :  torch.float32\n",
      "conv1.bias :  torch.float32\n",
      "conv2.weight :  torch.float32\n",
      "conv2.bias :  torch.float32\n",
      "fc1.weight :  torch.float32\n",
      "fc1.bias :  torch.float32\n",
      "fc2.weight :  torch.float32\n",
      "fc2.bias :  torch.float32\n",
      "fc3.weight :  torch.float32\n",
      "fc3.bias :  torch.float32\n"
     ]
    }
   ],
   "source": [
    "# inspect the data types of our model's parameteres \n",
    "\n",
    "for n, p in model.named_parameters():\n",
    "\n",
    "    print(n, \": \", p.dtype)"
   ]
  },
  {
   "cell_type": "markdown",
   "metadata": {},
   "source": [
    "### Quick Quantization Method (p.180)\n",
    "* reduce the model to half precision using ```half()``` method."
   ]
  },
  {
   "cell_type": "code",
   "execution_count": 11,
   "metadata": {},
   "outputs": [
    {
     "name": "stdout",
     "output_type": "stream",
     "text": [
      "conv1.weight :  torch.float16\n",
      "conv1.bias :  torch.float16\n",
      "conv2.weight :  torch.float16\n",
      "conv2.bias :  torch.float16\n",
      "fc1.weight :  torch.float16\n",
      "fc1.bias :  torch.float16\n",
      "fc2.weight :  torch.float16\n",
      "fc2.bias :  torch.float16\n",
      "fc3.weight :  torch.float16\n",
      "fc3.bias :  torch.float16\n"
     ]
    }
   ],
   "source": [
    "model = model.half()\n",
    "\n",
    "for n, p in model.named_parameters():\n",
    "    print(n, \": \", p.dtype)"
   ]
  },
  {
   "cell_type": "markdown",
   "metadata": {},
   "source": [
    "Now our ```computation``` and ```memory values``` are ```float16```."
   ]
  },
  {
   "cell_type": "markdown",
   "metadata": {},
   "source": [
    "***\n",
    "we ```don't``` want to ```quantize``` every computation ```in the same way```. <br/>\n",
    "and we may need to quantize beyond ```float16``` values. "
   ]
  },
  {
   "cell_type": "markdown",
   "metadata": {},
   "source": [
    "## Three other modes of quantization (p. 181)\n",
    "1. dynamic quantization \n",
    "2. post-training static quantization\n",
    "3. quantization-aware training (QAT)"
   ]
  },
  {
   "cell_type": "markdown",
   "metadata": {},
   "source": [
    "### Dynamic Quantization:\n",
    "when ```throughput``` is limited by compute or memory bandwidth for weights. <br/> \n",
    "\n",
    "This is often true for __LSTM__, __RNN__, __Bidirectional Encoder Representations from Transformers__ (BERT), or __Transformer__ networks."
   ]
  },
  {
   "cell_type": "markdown",
   "metadata": {},
   "source": [
    "### Post-training Static Quantization:\n",
    "when ```throughput``` is limited by ```memory bandwidth``` for ```activations```. <br/>\n",
    "Often applies for ```CNN```s."
   ]
  },
  {
   "cell_type": "markdown",
   "metadata": {},
   "source": [
    "### QAT \n",
    "when ```accuracy requirements``` cannot be achieved by static quantization."
   ]
  },
  {
   "cell_type": "markdown",
   "metadata": {},
   "source": [
    "All types above convert ```weights``` into ```int8```.<br/>\n",
    "They vary in handle activations and memory access."
   ]
  },
  {
   "cell_type": "markdown",
   "metadata": {},
   "source": [
    "***"
   ]
  },
  {
   "cell_type": "markdown",
   "metadata": {},
   "source": [
    "### (ex1) Dynamic quantization (p.181)\n",
    "- it is the easiest type\n",
    "- it ```converts``` the ```activations``` to ```int8``` on the fly.\n",
    "\n",
    "Computations use efficient ```int8``` values, <br/> \n",
    "but the ```activations``` are ```read and written``` to memory in ```floating-point``` format."
   ]
  },
  {
   "cell_type": "code",
   "execution_count": 12,
   "metadata": {},
   "outputs": [],
   "source": [
    "import torch.quantization\n",
    "\n",
    "quantized_model = torch.quantization.quantize_dynamic(  model,              # pass our model. \n",
    "                                                        {torch.nn.Linear},  # specify the quantized layers.\n",
    "                                                        dtype=torch.qint8   # specify the quantization level.\n",
    "                                                    )"
   ]
  },
  {
   "cell_type": "markdown",
   "metadata": {},
   "source": [
    "#### ★★★ (NOTICE) \n",
    "Quantization depends on the backend being used to run quantized models. <br/>\n",
    "Currently, quantized operators are supported for CPU inference only in the following backends: \n",
    "* x86 (fbgemm)\n",
    "* ARM (qnnpack)"
   ]
  },
  {
   "cell_type": "markdown",
   "metadata": {},
   "source": [
    "However, __QAT__ occurs in full floating point and can run on either GPUs or CPUs."
   ]
  },
  {
   "cell_type": "markdown",
   "metadata": {},
   "source": [
    "### (ex2) Post-training Static Quantization (p.182)\n",
    "* to ```further reduce``` latency by observing the distributions of different activations ```during training```\n",
    "* and by deciding ```how those activations should be``` quantized at the time of inference.\n",
    "\n",
    "This type of quantization allows us to pass quantized values between operations without converting back and forth between ```float```s and ```int```s in memory."
   ]
  },
  {
   "cell_type": "code",
   "execution_count": 13,
   "metadata": {},
   "outputs": [
    {
     "name": "stderr",
     "output_type": "stream",
     "text": [
      "/home/milky/anaconda3/envs/py38/lib/python3.8/site-packages/torch/ao/quantization/observer.py:172: UserWarning: Please use quant_min and quant_max to specify the range for observers.                     reduce_range will be deprecated in a future release of PyTorch.\n",
      "  warnings.warn(\n",
      "/home/milky/anaconda3/envs/py38/lib/python3.8/site-packages/torch/ao/quantization/observer.py:1107: UserWarning: must run observer before calling calculate_qparams.                                    Returning default scale and zero point \n",
      "  warnings.warn(\n"
     ]
    },
    {
     "data": {
      "text/plain": [
       "LeNet5(\n",
       "  (conv1): QuantizedConv2d(3, 6, kernel_size=(5, 5), stride=(1, 1), scale=1.0, zero_point=0)\n",
       "  (conv2): QuantizedConv2d(6, 16, kernel_size=(5, 5), stride=(1, 1), scale=1.0, zero_point=0)\n",
       "  (fc1): QuantizedLinear(in_features=400, out_features=120, scale=1.0, zero_point=0, qscheme=torch.per_channel_affine)\n",
       "  (fc2): QuantizedLinear(in_features=120, out_features=84, scale=1.0, zero_point=0, qscheme=torch.per_channel_affine)\n",
       "  (fc3): QuantizedLinear(in_features=84, out_features=10, scale=1.0, zero_point=0, qscheme=torch.per_channel_affine)\n",
       ")"
      ]
     },
     "execution_count": 13,
     "metadata": {},
     "output_type": "execute_result"
    }
   ],
   "source": [
    "static_quant_model = LeNet5()\n",
    "\n",
    "static_quant_model.qconfig = torch.quantization.get_default_qconfig('fbgemm') # configure the backend to use x86 (fbgemm)\n",
    "\n",
    "torch.quantization.prepare( static_quant_model, inplace=True)  # to insert observers to calibrate the model and collect statistics.\n",
    "torch.quantization.convert( static_quant_model, inplace=True)  # to convert the model to a quantized version. "
   ]
  },
  {
   "cell_type": "markdown",
   "metadata": {},
   "source": [
    "### (ex3) QAT\n",
    "* typically results in the best accuracy \n",
    "\n",
    "All ```weights``` and ```activations``` are \"```fake quantized```\" during the forward and backward pass of ```training```. <br/>\n",
    "```Float values``` are ```rounded``` to the ```int8``` equivalent, but the computations are ```still``` done in ```floating point```. \n",
    "\n",
    "(i.e) the ```weight adjustments``` are made \"```aware```\" that they will be quantized during training."
   ]
  },
  {
   "cell_type": "code",
   "execution_count": 14,
   "metadata": {},
   "outputs": [
    {
     "name": "stderr",
     "output_type": "stream",
     "text": [
      "/home/milky/anaconda3/envs/py38/lib/python3.8/site-packages/torch/ao/quantization/observer.py:172: UserWarning: Please use quant_min and quant_max to specify the range for observers.                     reduce_range will be deprecated in a future release of PyTorch.\n",
      "  warnings.warn(\n",
      "/home/milky/anaconda3/envs/py38/lib/python3.8/site-packages/torch/ao/quantization/utils.py:156: UserWarning: must run observer before calling calculate_qparams. Returning default values.\n",
      "  warnings.warn(\n"
     ]
    },
    {
     "data": {
      "text/plain": [
       "LeNet5(\n",
       "  (conv1): QuantizedConv2d(3, 6, kernel_size=(5, 5), stride=(1, 1), scale=1.0, zero_point=0)\n",
       "  (conv2): QuantizedConv2d(6, 16, kernel_size=(5, 5), stride=(1, 1), scale=1.0, zero_point=0)\n",
       "  (fc1): QuantizedLinear(in_features=400, out_features=120, scale=1.0, zero_point=0, qscheme=torch.per_channel_affine)\n",
       "  (fc2): QuantizedLinear(in_features=120, out_features=84, scale=1.0, zero_point=0, qscheme=torch.per_channel_affine)\n",
       "  (fc3): QuantizedLinear(in_features=84, out_features=10, scale=1.0, zero_point=0, qscheme=torch.per_channel_affine)\n",
       ")"
      ]
     },
     "execution_count": 14,
     "metadata": {},
     "output_type": "execute_result"
    }
   ],
   "source": [
    "qat_model = LeNet5()\n",
    "qat_model.qconfig = torch.quantization.get_default_qat_qconfig('fbgemm')\n",
    "\n",
    "torch.quantization.prepare_qat( qat_model, inplace=True)\n",
    "torch.quantization.convert( qat_model, inplace=True)"
   ]
  },
  {
   "cell_type": "code",
   "execution_count": null,
   "metadata": {},
   "outputs": [],
   "source": []
  }
 ],
 "metadata": {
  "interpreter": {
   "hash": "f38f9a92a40eacf7671051530596ac31a08fa1747600811db2b78ca4cf9fd4a6"
  },
  "kernelspec": {
   "display_name": "Python 3.8.12 64-bit ('py38': conda)",
   "language": "python",
   "name": "python3"
  },
  "language_info": {
   "codemirror_mode": {
    "name": "ipython",
    "version": 3
   },
   "file_extension": ".py",
   "mimetype": "text/x-python",
   "name": "python",
   "nbconvert_exporter": "python",
   "pygments_lexer": "ipython3",
   "version": "3.8.12"
  },
  "orig_nbformat": 4
 },
 "nbformat": 4,
 "nbformat_minor": 2
}
