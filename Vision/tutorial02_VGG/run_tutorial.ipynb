{
 "cells": [
  {
   "cell_type": "markdown",
   "metadata": {},
   "source": [
    "## 1. Build the dataset "
   ]
  },
  {
   "cell_type": "code",
   "execution_count": null,
   "metadata": {},
   "outputs": [],
   "source": [
    "%run -i build_dataset.py --data_dir data/SIGNS --output_dir data/64x64_SIGNS"
   ]
  },
  {
   "cell_type": "markdown",
   "metadata": {},
   "source": [
    "## 2. Run the train & validation loop"
   ]
  },
  {
   "cell_type": "code",
   "execution_count": null,
   "metadata": {},
   "outputs": [],
   "source": [
    "%run -i main.py --data_dir data/64x64_SIGNS --hyperparam_dir experiments/base_model"
   ]
  },
  {
   "cell_type": "markdown",
   "metadata": {},
   "source": [
    "## 3. Search hyper-parameters \n",
    "* to find the best dropout_rate \n",
    "* ,or whatelse "
   ]
  },
  {
   "cell_type": "code",
   "execution_count": null,
   "metadata": {},
   "outputs": [],
   "source": [
    "%run -i search_hyperparams.py --data_dir data/64x64_SIGNS --hyperparam_dir experiments/dropout_rate"
   ]
  },
  {
   "cell_type": "code",
   "execution_count": 2,
   "metadata": {},
   "outputs": [
    {
     "name": "stdout",
     "output_type": "stream",
     "text": [
      "|                                            |   accuracy |    loss |\n",
      "|:-------------------------------------------|-----------:|--------:|\n",
      "| experiments/dropout_rate/dropout_rate_0.5  |   0.549107 | 1.01463 |\n",
      "| experiments/dropout_rate/dropout_rate_0.8  |   0.360119 | 1.62406 |\n",
      "| experiments/dropout_rate/dropout_rate_0.65 |   0.34375  | 1.49989 |\n"
     ]
    }
   ],
   "source": [
    "%run -i synthesize_results.py --parent_dir experiments/dropout_rate"
   ]
  },
  {
   "cell_type": "markdown",
   "metadata": {},
   "source": [
    "## 4. Evaluation on the test set"
   ]
  },
  {
   "cell_type": "code",
   "execution_count": 1,
   "metadata": {},
   "outputs": [
    {
     "name": "stderr",
     "output_type": "stream",
     "text": [
      "Loading the test dataset...\n",
      "- done.\n"
     ]
    },
    {
     "name": "stdout",
     "output_type": "stream",
     "text": [
      "device: cuda:0\n"
     ]
    },
    {
     "name": "stderr",
     "output_type": "stream",
     "text": [
      "Starting evaluation\n",
      "100%|██████████| 2/2 [00:00<00:00,  3.07it/s, acc=0.926, loss=0.190]\n",
      "test_acc=0.926, avg_loss=0.190\n"
     ]
    }
   ],
   "source": [
    "%run -i evaluation.py --data_dir=data/64x64_SIGNS --hyperparam_dir=experiments/base_model --restore_file=best"
   ]
  },
  {
   "cell_type": "code",
   "execution_count": null,
   "metadata": {},
   "outputs": [],
   "source": []
  }
 ],
 "metadata": {
  "interpreter": {
   "hash": "0afb247b3e1cae53132646038c67887b32f10fa18b1a30080e28d8d5dd877602"
  },
  "kernelspec": {
   "display_name": "Python 3.8.11 64-bit ('py38': conda)",
   "name": "python3"
  },
  "language_info": {
   "codemirror_mode": {
    "name": "ipython",
    "version": 3
   },
   "file_extension": ".py",
   "mimetype": "text/x-python",
   "name": "python",
   "nbconvert_exporter": "python",
   "pygments_lexer": "ipython3",
   "version": "3.8.11"
  },
  "orig_nbformat": 4
 },
 "nbformat": 4,
 "nbformat_minor": 2
}